{
  "nbformat": 4,
  "nbformat_minor": 0,
  "metadata": {
    "colab": {
      "provenance": [],
      "include_colab_link": true
    },
    "kernelspec": {
      "name": "python3",
      "display_name": "Python 3"
    },
    "language_info": {
      "name": "python"
    }
  },
  "cells": [
    {
      "cell_type": "markdown",
      "metadata": {
        "id": "view-in-github",
        "colab_type": "text"
      },
      "source": [
        "<a href=\"https://colab.research.google.com/github/charangupthap/GENERATIVE_AI_B39/blob/main/Gen_AI_Assignment_3.ipynb\" target=\"_parent\"><img src=\"https://colab.research.google.com/assets/colab-badge.svg\" alt=\"Open In Colab\"/></a>"
      ]
    },
    {
      "cell_type": "markdown",
      "source": [
        "5 𝑥^ 4 + 3 𝑥^ 2 + 10 :"
      ],
      "metadata": {
        "id": "-joG1BCvQALe"
      }
    },
    {
      "cell_type": "code",
      "execution_count": null,
      "metadata": {
        "id": "Q0tUgJZfLpA5",
        "colab": {
          "base_uri": "https://localhost:8080/"
        },
        "outputId": "3a3aff66-d8f5-4d92-9de1-ea1a20d7cc0c"
      },
      "outputs": [
        {
          "output_type": "stream",
          "name": "stdout",
          "text": [
            "Minimum value of x for f(x): 0.0\n"
          ]
        }
      ],
      "source": [
        "def gradient_descent(f_prime, x0, learning_rate=0.01, tolerance=1e-6, max_iter=1000):\n",
        "    x = x0\n",
        "    for i in range(max_iter):\n",
        "        grad = f_prime(x)\n",
        "        new_x = x - learning_rate * grad\n",
        "        if abs(new_x - x) < tolerance:\n",
        "            break\n",
        "        x = new_x\n",
        "    return x\n",
        "\n",
        "# Derivative of f(x) = 5x^4 + 3x^2 + 10\n",
        "def f_prime(x):\n",
        "    return 20 * x**3 + 6 * x\n",
        "\n",
        "# Initial guess\n",
        "x0 = 0.0\n",
        "min_x = gradient_descent(f_prime, x0)\n",
        "print(f\"Minimum value of x for f(x): {min_x}\")"
      ]
    },
    {
      "cell_type": "markdown",
      "source": [
        "Find the minimum value of 𝑔 ( 𝑥 , 𝑦 )\n",
        "3 𝑥^ 2 + 5 𝑒^ − 𝑦 + 10 :"
      ],
      "metadata": {
        "id": "1uPA9TuGQJiw"
      }
    },
    {
      "cell_type": "code",
      "source": [
        "def gradient_descent_multi(f_prime_x, f_prime_y, x0, y0, learning_rate=0.01, tolerance=1e-6, max_iter=1000):\n",
        "    x, y = x0, y0\n",
        "    for i in range(max_iter):\n",
        "        grad_x = f_prime_x(x)\n",
        "        grad_y = f_prime_y(y)\n",
        "        new_x = x - learning_rate * grad_x\n",
        "        new_y = y - learning_rate * grad_y\n",
        "        if abs(new_x - x) < tolerance and abs(new_y - y) < tolerance:\n",
        "            break\n",
        "        x, y = new_x, new_y\n",
        "    return x, y\n",
        "\n",
        "# Derivatives of g(x, y) = 3x^2 + 5e^(-y) + 10\n",
        "def f_prime_x(x):\n",
        "    return 6 * x\n",
        "\n",
        "def f_prime_y(y):\n",
        "    return -5 * (2.71828 ** (-y))\n",
        "\n",
        "# Initial guess\n",
        "x0, y0 = 0.0, 0.0\n",
        "min_x, min_y = gradient_descent_multi(f_prime_x, f_prime_y, x0, y0)\n",
        "print(f\"Minimum value of x and y for g(x, y): {min_x}, {min_y}\")"
      ],
      "metadata": {
        "colab": {
          "base_uri": "https://localhost:8080/"
        },
        "id": "zR7fx8LLQKwW",
        "outputId": "6a3df815-eb94-42e2-984c-27cb1c9d710e"
      },
      "execution_count": null,
      "outputs": [
        {
          "output_type": "stream",
          "name": "stdout",
          "text": [
            "Minimum value of x and y for g(x, y): 0.0, 3.933762227862872\n"
          ]
        }
      ]
    },
    {
      "cell_type": "markdown",
      "source": [
        "Find the minimum value of the sigmoid function 𝑧 ( 𝑥\n",
        "1/ 1 + 𝑒^ − 𝑥 :"
      ],
      "metadata": {
        "id": "1lbT2hQUQPe-"
      }
    },
    {
      "cell_type": "code",
      "source": [
        "\n",
        "def sigmoid_derivative(x):\n",
        "    sig = 1 / (1 + 2.71828**(-x))\n",
        "    return sig * (1 - sig)\n",
        "\n",
        "min_x_sigmoid = gradient_descent(sigmoid_derivative, 0.0)\n",
        "print(f\"Minimum value of x for sigmoid function: {min_x_sigmoid}\")\n"
      ],
      "metadata": {
        "colab": {
          "base_uri": "https://localhost:8080/"
        },
        "id": "kdRXjp5JQWhi",
        "outputId": "a2df249f-c553-4e65-c718-4a71b4ec3b5f"
      },
      "execution_count": null,
      "outputs": [
        {
          "output_type": "stream",
          "name": "stdout",
          "text": [
            "Minimum value of x for sigmoid function: -1.8618359316575634\n"
          ]
        }
      ]
    },
    {
      "cell_type": "markdown",
      "source": [
        "Find the optimal values of 𝑀 M and 𝐶 C for minimizing the square error 𝑆 𝐸\n",
        "( 𝐸 𝑥 𝑝 𝑒 𝑐 𝑡 𝑒 𝑑 𝑂 𝑢 𝑡 𝑝 𝑢 𝑡 − 𝑃 𝑟 𝑒 𝑑 𝑖 𝑐 𝑡 𝑒 𝑑 𝑂 𝑢 𝑡 𝑝 𝑢 𝑡 ) ^2 :"
      ],
      "metadata": {
        "id": "oqSs1UTyQaZJ"
      }
    },
    {
      "cell_type": "code",
      "source": [
        "def gradient_descent_linear(f_prime_m, f_prime_c, m0, c0, learning_rate=0.01, tolerance=1e-6, max_iter=1000):\n",
        "    m, c = m0, c0\n",
        "    for i in range(max_iter):\n",
        "        grad_m = f_prime_m(m, c)\n",
        "        grad_c = f_prime_c(m, c)\n",
        "        new_m = m - learning_rate * grad_m\n",
        "        new_c = c - learning_rate * grad_c\n",
        "        if abs(new_m - m) < tolerance and abs(new_c - c) < tolerance:\n",
        "            break\n",
        "        m, c = new_m, new_c\n",
        "    return m, c\n",
        "\n",
        "# Derivatives of SE = (ExpectedOutput - (Mx + C))^2\n",
        "# Assuming simple linear regression y = Mx + C, and we have some data points (x, y)\n",
        "\n",
        "def f_prime_m(m, c):\n",
        "    # Example with a single data point (x, y) = (1, 2)\n",
        "    x, y = 1, 2\n",
        "    return -2 * x * (y - (m * x + c))\n",
        "\n",
        "def f_prime_c(m, c):\n",
        "    x, y = 1, 2\n",
        "    return -2 * (y - (m * x + c))\n",
        "\n",
        "# Initial guess\n",
        "m0, c0 = 0.0, 0.0\n",
        "min_m, min_c = gradient_descent_linear(f_prime_m, f_prime_c, m0, c0)\n",
        "print(f\"Optimal values of M and C: {min_m}, {min_c}\")\n"
      ],
      "metadata": {
        "colab": {
          "base_uri": "https://localhost:8080/"
        },
        "id": "9odBy2OWQfBC",
        "outputId": "73760a96-8582-4aad-e7d7-7916c79ea741"
      },
      "execution_count": null,
      "outputs": [
        {
          "output_type": "stream",
          "name": "stdout",
          "text": [
            "Optimal values of M and C: 0.9999754234685202, 0.9999754234685202\n"
          ]
        }
      ]
    }
  ]
}