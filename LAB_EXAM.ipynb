{
  "nbformat": 4,
  "nbformat_minor": 0,
  "metadata": {
    "colab": {
      "provenance": [],
      "authorship_tag": "ABX9TyNL2Uc60csC8ltjJTqxxOHn",
      "include_colab_link": true
    },
    "kernelspec": {
      "name": "python3",
      "display_name": "Python 3"
    },
    "language_info": {
      "name": "python"
    }
  },
  "cells": [
    {
      "cell_type": "markdown",
      "metadata": {
        "id": "view-in-github",
        "colab_type": "text"
      },
      "source": [
        "<a href=\"https://colab.research.google.com/github/charangupthap/GENERATIVE_AI_B39/blob/main/LAB_EXAM.ipynb\" target=\"_parent\"><img src=\"https://colab.research.google.com/assets/colab-badge.svg\" alt=\"Open In Colab\"/></a>"
      ]
    },
    {
      "cell_type": "code",
      "execution_count": 1,
      "metadata": {
        "colab": {
          "base_uri": "https://localhost:8080/"
        },
        "id": "YBjr6yTeeHBd",
        "outputId": "4bbceaea-817e-4e2d-b47d-93e240454af1"
      },
      "outputs": [
        {
          "output_type": "stream",
          "name": "stdout",
          "text": [
            "Epoch 0 - Error: 0.5374431209131236\n",
            "Epoch 1000 - Error: 0.13988429130573166\n",
            "Epoch 2000 - Error: 0.0934678202223607\n",
            "Epoch 3000 - Error: 0.07407582063182669\n",
            "Epoch 4000 - Error: 0.062963808588933\n",
            "Epoch 5000 - Error: 0.05558683636259121\n",
            "Epoch 6000 - Error: 0.05025179040887763\n",
            "Epoch 7000 - Error: 0.04617099400865224\n",
            "Epoch 8000 - Error: 0.04292356899496421\n",
            "Epoch 9000 - Error: 0.04026214113180504\n",
            "\n",
            "Predictions after training:\n",
            "Input: 0, Output: 0.041971423228909364\n",
            "Input: 1, Output: 0.965909828215241\n"
          ]
        }
      ],
      "source": [
        "import numpy as np\n",
        "\n",
        "# Sigmoid activation function\n",
        "def sigmoid(x):\n",
        "    return 1 / (1 + np.exp(-x))\n",
        "\n",
        "# Derivative of sigmoid function (for backpropagation, if needed)\n",
        "def sigmoid_derivative(x):\n",
        "    return x * (1 - x)\n",
        "\n",
        "# Training data (Example: Simple dataset)\n",
        "X = np.array([[0], [1]])  # Input (1 feature, 2 samples)\n",
        "y = np.array([[0], [1]])  # Output (target labels)\n",
        "\n",
        "# Initialize parameters\n",
        "w = np.random.randn()  # Random weight (single weight for input)\n",
        "b = np.random.randn()  # Random bias (single bias term)\n",
        "\n",
        "# Learning rate\n",
        "learning_rate = 0.1\n",
        "\n",
        "# Training loop (epochs)\n",
        "epochs = 10000\n",
        "for epoch in range(epochs):\n",
        "    # Forward pass\n",
        "    linear_output = X * w + b  # Linear combination of inputs\n",
        "    output = sigmoid(linear_output)  # Apply sigmoid activation function\n",
        "\n",
        "    # Compute the error (difference between actual and predicted outputs)\n",
        "    error = y - output\n",
        "\n",
        "    # Gradient descent (backpropagation for weight update)\n",
        "    d_output = error * sigmoid_derivative(output)\n",
        "\n",
        "    # Update weights and bias\n",
        "    w += learning_rate * np.sum(d_output * X)  # Gradient update for weight\n",
        "    b += learning_rate * np.sum(d_output)  # Gradient update for bias\n",
        "\n",
        "    if epoch % 1000 == 0:\n",
        "        print(f\"Epoch {epoch} - Error: {np.mean(np.abs(error))}\")\n",
        "\n",
        "# After training, check the predictions\n",
        "print(\"\\nPredictions after training:\")\n",
        "print(f\"Input: 0, Output: {sigmoid(0 * w + b)}\")\n",
        "print(f\"Input: 1, Output: {sigmoid(1 * w + b)}\")\n"
      ]
    }
  ]
}