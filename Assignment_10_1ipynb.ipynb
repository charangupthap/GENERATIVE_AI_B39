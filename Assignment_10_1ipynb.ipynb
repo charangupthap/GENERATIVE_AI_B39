{
  "nbformat": 4,
  "nbformat_minor": 0,
  "metadata": {
    "colab": {
      "provenance": [],
      "authorship_tag": "ABX9TyOSe0c4AOrfc2D+fGbo89xV",
      "include_colab_link": true
    },
    "kernelspec": {
      "name": "python3",
      "display_name": "Python 3"
    },
    "language_info": {
      "name": "python"
    }
  },
  "cells": [
    {
      "cell_type": "markdown",
      "metadata": {
        "id": "view-in-github",
        "colab_type": "text"
      },
      "source": [
        "<a href=\"https://colab.research.google.com/github/charangupthap/GENERATIVE_AI_B39/blob/main/Assignment_10_1ipynb.ipynb\" target=\"_parent\"><img src=\"https://colab.research.google.com/assets/colab-badge.svg\" alt=\"Open In Colab\"/></a>"
      ]
    },
    {
      "cell_type": "code",
      "execution_count": null,
      "metadata": {
        "colab": {
          "base_uri": "https://localhost:8080/"
        },
        "id": "UV43SLnIBT_9",
        "outputId": "9fd218c4-ea3e-418f-b60e-64034650d160"
      },
      "outputs": [
        {
          "output_type": "stream",
          "name": "stdout",
          "text": [
            "Downloading data from https://storage.googleapis.com/tensorflow/tf-keras-datasets/mnist.npz\n",
            "\u001b[1m11490434/11490434\u001b[0m \u001b[32m━━━━━━━━━━━━━━━━━━━━\u001b[0m\u001b[37m\u001b[0m \u001b[1m0s\u001b[0m 0us/step\n"
          ]
        },
        {
          "output_type": "stream",
          "name": "stderr",
          "text": [
            "/usr/local/lib/python3.11/dist-packages/keras/src/layers/convolutional/base_conv.py:107: UserWarning: Do not pass an `input_shape`/`input_dim` argument to a layer. When using Sequential models, prefer using an `Input(shape)` object as the first layer in the model instead.\n",
            "  super().__init__(activity_regularizer=activity_regularizer, **kwargs)\n"
          ]
        },
        {
          "output_type": "stream",
          "name": "stdout",
          "text": [
            "Training the CNN...\n",
            "Epoch 1/30\n",
            "\u001b[1m1688/1688\u001b[0m \u001b[32m━━━━━━━━━━━━━━━━━━━━\u001b[0m\u001b[37m\u001b[0m \u001b[1m58s\u001b[0m 33ms/step - accuracy: 0.9043 - loss: 0.3151 - val_accuracy: 0.9837 - val_loss: 0.0555\n",
            "Epoch 2/30\n",
            "\u001b[1m1688/1688\u001b[0m \u001b[32m━━━━━━━━━━━━━━━━━━━━\u001b[0m\u001b[37m\u001b[0m \u001b[1m74s\u001b[0m 29ms/step - accuracy: 0.9846 - loss: 0.0479 - val_accuracy: 0.9867 - val_loss: 0.0443\n",
            "Epoch 3/30\n",
            "\u001b[1m1688/1688\u001b[0m \u001b[32m━━━━━━━━━━━━━━━━━━━━\u001b[0m\u001b[37m\u001b[0m \u001b[1m50s\u001b[0m 30ms/step - accuracy: 0.9907 - loss: 0.0306 - val_accuracy: 0.9903 - val_loss: 0.0313\n",
            "Epoch 4/30\n",
            "\u001b[1m 701/1688\u001b[0m \u001b[32m━━━━━━━━\u001b[0m\u001b[37m━━━━━━━━━━━━\u001b[0m \u001b[1m27s\u001b[0m 28ms/step - accuracy: 0.9934 - loss: 0.0184"
          ]
        }
      ],
      "source": [
        "import tensorflow as tf\n",
        "from tensorflow import keras\n",
        "from tensorflow.keras import layers\n",
        "\n",
        "# 1. Build and Train a Convolutional Neural Network (CNN) for MNIST\n",
        "\n",
        "# Load the MNIST dataset\n",
        "(x_train, y_train), (x_test, y_test) = keras.datasets.mnist.load_data()\n",
        "\n",
        "# Preprocess the data\n",
        "# Normalize pixel values to be between 0 and 1\n",
        "x_train = x_train.astype(\"float32\") / 255.0\n",
        "x_test = x_test.astype(\"float32\") / 255.0\n",
        "\n",
        "# Add a channel dimension (for convolutional layers)\n",
        "x_train = x_train.reshape((60000, 28, 28, 1))\n",
        "x_test = x_test.reshape((10000, 28, 28, 1))\n",
        "\n",
        "# Convert labels to categorical one-hot encoding\n",
        "num_classes = 10\n",
        "y_train = keras.utils.to_categorical(y_train, num_classes)\n",
        "y_test = keras.utils.to_categorical(y_test, num_classes)\n",
        "\n",
        "# Define the CNN model architecture as per Tabela 1\n",
        "model = keras.Sequential(\n",
        "    [\n",
        "        layers.Conv2D(filters=32, kernel_size=(3, 3), activation=\"relu\", input_shape=(28, 28, 1)),\n",
        "        layers.MaxPooling2D(pool_size=(2, 2)),\n",
        "        layers.Conv2D(filters=64, kernel_size=(3, 3), activation=\"relu\"),\n",
        "        layers.MaxPooling2D(pool_size=(2, 2)),\n",
        "        layers.Flatten(),\n",
        "        layers.Dense(128, activation=\"relu\"),\n",
        "        layers.Dense(num_classes, activation=\"softmax\"),\n",
        "    ]\n",
        ")\n",
        "\n",
        "# Define training parameters as per Tabela 2\n",
        "epochs = 30\n",
        "batch_size = 32\n",
        "optimizer = \"adam\"\n",
        "loss_metric = \"categorical_crossentropy\"  # Error metric for multi-class classification\n",
        "\n",
        "# Compile the model\n",
        "model.compile(loss=loss_metric, optimizer=optimizer, metrics=[\"accuracy\"])\n",
        "\n",
        "# Train the model\n",
        "print(\"Training the CNN...\")\n",
        "history = model.fit(x_train, y_train, batch_size=batch_size, epochs=epochs, validation_split=0.1)\n",
        "\n",
        "# 2. Calculate the accuracy with training and testing data\n",
        "\n",
        "# Evaluate the model on the training data\n",
        "_, train_accuracy = model.evaluate(x_train, y_train, verbose=0)\n",
        "print(f\"\\nTraining Accuracy: {train_accuracy:.4f}\")\n",
        "\n",
        "# Evaluate the model on the testing data\n",
        "_, test_accuracy = model.evaluate(x_test, y_test, verbose=0)\n",
        "print(f\"Testing Accuracy: {test_accuracy:.4f}\")"
      ]
    }
  ]
}