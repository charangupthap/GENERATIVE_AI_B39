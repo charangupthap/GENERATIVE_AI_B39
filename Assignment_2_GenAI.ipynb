{
  "nbformat": 4,
  "nbformat_minor": 0,
  "metadata": {
    "colab": {
      "provenance": [],
      "include_colab_link": true
    },
    "kernelspec": {
      "name": "python3",
      "display_name": "Python 3"
    },
    "language_info": {
      "name": "python"
    }
  },
  "cells": [
    {
      "cell_type": "markdown",
      "metadata": {
        "id": "view-in-github",
        "colab_type": "text"
      },
      "source": [
        "<a href=\"https://colab.research.google.com/github/charangupthap/GENERATIVE_AI_B39/blob/main/Assignment_2_GenAI.ipynb\" target=\"_parent\"><img src=\"https://colab.research.google.com/assets/colab-badge.svg\" alt=\"Open In Colab\"/></a>"
      ]
    },
    {
      "cell_type": "markdown",
      "source": [
        "QUESTION 1"
      ],
      "metadata": {
        "id": "kZuGstSUJ-sR"
      }
    },
    {
      "cell_type": "code",
      "execution_count": null,
      "metadata": {
        "colab": {
          "base_uri": "https://localhost:8080/"
        },
        "id": "9R4MG0l-JvKM",
        "outputId": "a5afac84-98d0-40a5-c2ae-b7b591c42312"
      },
      "outputs": [
        {
          "output_type": "stream",
          "name": "stdout",
          "text": [
            "Case Study 1:\n",
            "Optimal value (Z): 30.00\n",
            "Optimal solution: x1 = 6.00, x2 = 0.00\n",
            "\n"
          ]
        }
      ],
      "source": [
        "from scipy.optimize import linprog\n",
        "c1 = [-5, -4]\n",
        "A1 = [\n",
        "    [2, 3],\n",
        "    [1, 2]\n",
        "]\n",
        "b1 = [12, 8]\n",
        "x1_bounds = (0, None)\n",
        "x2_bounds = (0, None)\n",
        "result1 = linprog(c1, A_ub=A1, b_ub=b1, bounds=[x1_bounds, x2_bounds], method='highs')\n",
        "print(\"Case Study 1:\")\n",
        "print(f\"Optimal value (Z): {-result1.fun:.2f}\")\n",
        "print(f\"Optimal solution: x1 = {result1.x[0]:.2f}, x2 = {result1.x[1]:.2f}\\n\")"
      ]
    },
    {
      "cell_type": "markdown",
      "source": [
        "QUESTION 2"
      ],
      "metadata": {
        "id": "6N7zgDUUKvNL"
      }
    },
    {
      "cell_type": "code",
      "source": [
        "# Task 2: Case Study 2\n",
        "# Minimize Z = 6x1 + 7x2\n",
        "# Subject to:\n",
        "# 4x1 + 3x2 >= 14\n",
        "# 2x1 + 5x2 >= 10\n",
        "# x1, x2 >= 0\n",
        "c2 = [6, 7]\n",
        "A2 = [\n",
        "    [-4, -3],\n",
        "    [-2, -5]\n",
        "]\n",
        "b2 = [-14, -10]\n",
        "result2 = linprog(c2, A_ub=A2, b_ub=b2, bounds=[x1_bounds, x2_bounds], method='highs')\n",
        "print(\"Case Study 2:\")\n",
        "print(f\"Optimal value (Z): {result2.fun:.2f}\")\n",
        "print(f\"Optimal solution: x1 = {result2.x[0]:.2f}, x2 = {result2.x[1]:.2f}\")"
      ],
      "metadata": {
        "colab": {
          "base_uri": "https://localhost:8080/"
        },
        "id": "u9wpuA4oK0f0",
        "outputId": "a68794e8-b881-4d89-9d07-72533e9d2298"
      },
      "execution_count": null,
      "outputs": [
        {
          "output_type": "stream",
          "name": "stdout",
          "text": [
            "Case Study 2:\n",
            "Optimal value (Z): 23.14\n",
            "Optimal solution: x1 = 2.86, x2 = 0.86\n"
          ]
        }
      ]
    }
  ]
}