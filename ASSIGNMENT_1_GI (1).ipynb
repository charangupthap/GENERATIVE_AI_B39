{
  "nbformat": 4,
  "nbformat_minor": 0,
  "metadata": {
    "colab": {
      "provenance": [],
      "include_colab_link": true
    },
    "kernelspec": {
      "name": "python3",
      "display_name": "Python 3"
    },
    "language_info": {
      "name": "python"
    }
  },
  "cells": [
    {
      "cell_type": "markdown",
      "metadata": {
        "id": "view-in-github",
        "colab_type": "text"
      },
      "source": [
        "<a href=\"https://colab.research.google.com/github/2303A52119/GenAIB-40/blob/main/ASSIGNMENT_1_GI.ipynb\" target=\"_parent\"><img src=\"https://colab.research.google.com/assets/colab-badge.svg\" alt=\"Open In Colab\"/></a>"
      ]
    },
    {
      "cell_type": "markdown",
      "source": [
        "P.RUSHIK(2303A52119)"
      ],
      "metadata": {
        "id": "Y1ic-aE9JxSP"
      }
    },
    {
      "cell_type": "markdown",
      "source": [
        "1. Write Python code from scratch to find error metrics of deep learning model. Actual\n",
        " values and deep learning model predicted values are shown in Table 1. Also compare the results\n",
        " with the outcomes of libraries\n",
        " YActual  YPred\n",
        " 20       20.5\n",
        " 30       30.3        \n",
        " 40       40.2\n",
        " 50       50.6\n",
        " 60       60.7\n",
        " Tabela 1: YActual Vs. YPred"
      ],
      "metadata": {
        "id": "vidO6awtJG4f"
      }
    },
    {
      "cell_type": "code",
      "execution_count": 1,
      "metadata": {
        "colab": {
          "base_uri": "https://localhost:8080/"
        },
        "id": "xIFkGnSuJEOj",
        "outputId": "90441872-2ff1-47b9-ca82-707b345f6696"
      },
      "outputs": [
        {
          "output_type": "stream",
          "name": "stdout",
          "text": [
            "MAE (manual): 0.4600000000000016\n",
            "MSE (manual): 0.24600000000000147\n",
            "RMSE (manual): 0.49598387070549127\n",
            "MAE (sklearn): 0.4600000000000016\n",
            "MSE (sklearn): 0.24600000000000147\n",
            "RMSE (sklearn): 0.49598387070549127\n"
          ]
        }
      ],
      "source": [
        "y_actual = [20, 30, 40, 50, 60]\n",
        "y_pred = [20.5, 30.3, 40.2, 50.6, 60.7]\n",
        "def mean_absolute_error(y_actual, y_pred):\n",
        "    return sum(abs(a - p) for a, p in zip(y_actual, y_pred)) / len(y_actual)\n",
        "\n",
        "def mean_squared_error(y_actual, y_pred):\n",
        "    return sum((a - p) ** 2 for a, p in zip(y_actual, y_pred)) / len(y_actual)\n",
        "\n",
        "def root_mean_squared_error(y_actual, y_pred):\n",
        "    mse = mean_squared_error(y_actual, y_pred)\n",
        "    return mse ** 0.5\n",
        "mae = mean_absolute_error(y_actual, y_pred)\n",
        "mse = mean_squared_error(y_actual, y_pred)\n",
        "rmse = root_mean_squared_error(y_actual, y_pred)\n",
        "\n",
        "print(\"MAE (manual):\", mae)\n",
        "print(\"MSE (manual):\", mse)\n",
        "print(\"RMSE (manual):\", rmse)\n",
        "from sklearn.metrics import mean_absolute_error as mae_sklearn, mean_squared_error as mse_sklearn\n",
        "\n",
        "mae_sklearn_value = mae_sklearn(y_actual, y_pred)\n",
        "mse_sklearn_value = mse_sklearn(y_actual, y_pred)\n",
        "rmse_sklearn_value = mse_sklearn_value ** 0.5\n",
        "\n",
        "print(\"MAE (sklearn):\", mae_sklearn_value)\n",
        "print(\"MSE (sklearn):\", mse_sklearn_value)\n",
        "print(\"RMSE (sklearn):\", rmse_sklearn_value)\n"
      ]
    },
    {
      "cell_type": "markdown",
      "source": [
        "2. Write python code from scratch to find evaluation metrics of deep learning model.\n",
        " Actual values and deep learning model predicted values are shown in Table 2. Also compare the\n",
        " results with outcome of libraries\n",
        " YActual YPred\n",
        " 0        0      1 1 2 0\n",
        " 0        0      1 0 2 0\n",
        " 0        1      1 2 2 1\n",
        " 0        2      1 0 2 2\n",
        " 0        2      1 2 2 2\n",
        " Tabela 2: YActual Vs. YPred"
      ],
      "metadata": {
        "id": "Cojct4QsL4I6"
      }
    },
    {
      "cell_type": "code",
      "source": [
        "# Actual and predicted values\n",
        "y_actual = [0, 0, 0, 0, 0, 0, 0, 1, 2, 2]\n",
        "y_pred = [1, 1, 2, 0, 1, 0, 2, 0, 2, 2]\n",
        "\n",
        "# Calculating evaluation metrics from scratch\n",
        "def accuracy(y_actual, y_pred):\n",
        "    correct = sum(a == p for a, p in zip(y_actual, y_pred))\n",
        "    return correct / len(y_actual)\n",
        "\n",
        "def precision(y_actual, y_pred, target):\n",
        "    tp = sum((a == p == target) for a, p in zip(y_actual, y_pred))\n",
        "    fp = sum((a != target and p == target) for a, p in zip(y_actual, y_pred))\n",
        "    return tp / (tp + fp) if (tp + fp) > 0 else 0\n",
        "\n",
        "def recall(y_actual, y_pred, target):\n",
        "    tp = sum((a == p == target) for a, p in zip(y_actual, y_pred))\n",
        "    fn = sum((a == target and p != target) for a, p in zip(y_actual, y_pred))\n",
        "    return tp / (tp + fn) if (tp + fn) > 0 else 0\n",
        "\n",
        "def f1_score(precision, recall):\n",
        "    return 2 * (precision * recall) / (precision + recall) if (precision + recall) > 0 else 0\n",
        "\n",
        "# Calculate metrics for each class\n",
        "targets = set(y_actual)\n",
        "metrics = {}\n",
        "for target in targets:\n",
        "    prec = precision(y_actual, y_pred, target)\n",
        "    rec = recall(y_actual, y_pred, target)\n",
        "    f1 = f1_score(prec, rec)\n",
        "    metrics[target] = {\n",
        "        'precision': prec,\n",
        "        'recall': rec,\n",
        "        'f1_score': f1\n",
        "    }\n",
        "\n",
        "# Calculate overall accuracy\n",
        "acc = accuracy(y_actual, y_pred)\n",
        "\n",
        "print(\"Accuracy (manual):\", acc)\n",
        "for target, metric in metrics.items():\n",
        "    print(f\"Class {target} - Precision (manual): {metric['precision']}, Recall (manual): {metric['recall']}, F1-Score (manual): {metric['f1_score']}\")\n",
        "\n",
        "# Using sklearn to calculate metrics\n",
        "from sklearn.metrics import accuracy_score, precision_score, recall_score, f1_score\n",
        "\n",
        "accuracy_sklearn = accuracy_score(y_actual, y_pred)\n",
        "precision_sklearn = precision_score(y_actual, y_pred, average=None)\n",
        "recall_sklearn = recall_score(y_actual, y_pred, average=None)\n",
        "f1_sklearn = f1_score(y_actual, y_pred, average=None)\n",
        "\n",
        "print(\"\\nAccuracy (sklearn):\", accuracy_sklearn)\n",
        "for idx, target in enumerate(targets):\n",
        "    print(f\"Class {target} - Precision (sklearn): {precision_sklearn[idx]}, Recall (sklearn): {recall_sklearn[idx]}, F1-Score (sklearn): {f1_sklearn[idx]}\")\n"
      ],
      "metadata": {
        "colab": {
          "base_uri": "https://localhost:8080/"
        },
        "id": "1K78r3UsM_Bi",
        "outputId": "7c0d4c82-1476-4f9e-c251-73196c71b2c0"
      },
      "execution_count": null,
      "outputs": [
        {
          "output_type": "stream",
          "name": "stdout",
          "text": [
            "Accuracy (manual): 0.4\n",
            "Class 0 - Precision (manual): 0.6666666666666666, Recall (manual): 0.2857142857142857, F1-Score (manual): 0.4\n",
            "Class 1 - Precision (manual): 0.0, Recall (manual): 0.0, F1-Score (manual): 0\n",
            "Class 2 - Precision (manual): 0.5, Recall (manual): 1.0, F1-Score (manual): 0.6666666666666666\n",
            "\n",
            "Accuracy (sklearn): 0.4\n",
            "Class 0 - Precision (sklearn): 0.6666666666666666, Recall (sklearn): 0.2857142857142857, F1-Score (sklearn): 0.4\n",
            "Class 1 - Precision (sklearn): 0.0, Recall (sklearn): 0.0, F1-Score (sklearn): 0.0\n",
            "Class 2 - Precision (sklearn): 0.5, Recall (sklearn): 1.0, F1-Score (sklearn): 0.6666666666666666\n"
          ]
        }
      ]
    }
  ]
}